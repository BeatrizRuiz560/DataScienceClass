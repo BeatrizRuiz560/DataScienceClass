{
 "cells": [
  {
   "cell_type": "markdown",
   "metadata": {},
   "source": [
    "<h1> Beatriz Ruiz Assignment 2 </h1>"
   ]
  },
  {
   "cell_type": "markdown",
   "metadata": {},
   "source": [
    "<b> Part A </b>"
   ]
  },
  {
   "cell_type": "code",
   "execution_count": null,
   "metadata": {},
   "outputs": [],
   "source": [
    "#A\n",
    "from sklearn.neighbors import KNeighborsClassifier\n",
    "import numpy as np\n",
    "import pandas as pd\n",
    "flower_df = pd.read_csv('https://raw.githubusercontent.com/mpourhoma/CS4661/master/iris.csv')\n",
    "flower_features =['sepal_length','sepal_width','petal_length','petal_width']\n",
    "X = flower_df[flower_features]\n",
    "y = flower_df['species']"
   ]
  },
  {
   "cell_type": "markdown",
   "metadata": {},
   "source": [
    "<b> Part B and Part C </b>"
   ]
  },
  {
   "cell_type": "code",
   "execution_count": 34,
   "metadata": {},
   "outputs": [
    {
     "name": "stdout",
     "output_type": "stream",
     "text": [
      "(90, 4)\n",
      "(90,)\n"
     ]
    }
   ],
   "source": [
    "#B\n",
    "#split the data set into training set and testing set\n",
    "from sklearn.model_selection import train_test_split\n",
    "X_train, X_test, y_train, y_test  = train_test_split(X,y, test_size=0.4, random_state=6)\n",
    "\n",
    "#C\n",
    "#Instantiate a KNN object with K=3\n",
    "k = 3\n",
    "iris_knn = KNeighborsClassifier(n_neighbors=k)\n",
    "iris_knn.fit(X_test,y_test)\n",
    "print(X_train.shape)\n",
    "print(y_train.shape)"
   ]
  },
  {
   "cell_type": "code",
   "execution_count": 35,
   "metadata": {},
   "outputs": [
    {
     "data": {
      "text/plain": [
       "KNeighborsClassifier(n_neighbors=3)"
      ]
     },
     "execution_count": 35,
     "metadata": {},
     "output_type": "execute_result"
    }
   ],
   "source": [
    "#Training only on the training set\n",
    "iris_knn.fit(X_train,y_train)"
   ]
  },
  {
   "cell_type": "code",
   "execution_count": 36,
   "metadata": {},
   "outputs": [
    {
     "name": "stdout",
     "output_type": "stream",
     "text": [
      "['setosa' 'virginica' 'setosa' 'setosa' 'virginica' 'versicolor'\n",
      " 'virginica' 'setosa' 'virginica' 'versicolor' 'virginica' 'versicolor'\n",
      " 'virginica' 'virginica' 'versicolor' 'versicolor' 'virginica'\n",
      " 'versicolor' 'versicolor' 'setosa' 'setosa' 'virginica' 'setosa' 'setosa'\n",
      " 'versicolor' 'versicolor' 'versicolor' 'virginica' 'setosa' 'versicolor'\n",
      " 'setosa' 'versicolor' 'setosa' 'setosa' 'versicolor' 'virginica'\n",
      " 'versicolor' 'virginica' 'versicolor' 'setosa' 'setosa' 'virginica'\n",
      " 'versicolor' 'versicolor' 'setosa' 'setosa' 'versicolor' 'setosa'\n",
      " 'setosa' 'versicolor' 'virginica' 'virginica' 'virginica' 'setosa'\n",
      " 'virginica' 'setosa' 'setosa' 'setosa' 'versicolor' 'virginica']\n"
     ]
    }
   ],
   "source": [
    "#Testing on the testing set\n",
    "y_predict = iris_knn.predict(X_test)\n",
    "print(y_predict)"
   ]
  },
  {
   "cell_type": "code",
   "execution_count": 37,
   "metadata": {},
   "outputs": [
    {
     "name": "stdout",
     "output_type": "stream",
     "text": [
      "0.9666666666666667\n"
     ]
    }
   ],
   "source": [
    "#Calculate Accuracy Evaluation\n",
    "from sklearn.metrics import accuracy_score\n",
    "\n",
    "accuracy = accuracy_score(y_test,y_predict)\n",
    "print(accuracy)\n"
   ]
  },
  {
   "cell_type": "markdown",
   "metadata": {},
   "source": [
    "<b>Part D </b>"
   ]
  },
  {
   "cell_type": "code",
   "execution_count": 38,
   "metadata": {},
   "outputs": [
    {
     "name": "stdout",
     "output_type": "stream",
     "text": [
      "[0.95, 0.9833333333333333, 0.9666666666666667, 0.9666666666666667, 0.9333333333333333, 0.9166666666666666, 0.8166666666666667]\n"
     ]
    }
   ],
   "source": [
    "#D \n",
    "Kneighbor = [1,5,7,11,15,27,59]\n",
    "accuracy_knn = []\n",
    "\n",
    "for k in Kneighbor:\n",
    "    iris_knn = KNeighborsClassifier(n_neighbors=k)\n",
    "    iris_knn.fit(X_train,y_train)\n",
    "    y_predict = iris_knn.predict(X_test)\n",
    "    accuracy = accuracy_score(y_test,y_predict)\n",
    "    accuracy_knn.append(accuracy)\n",
    "    \n",
    "print(accuracy_knn)\n",
    "# the accuracy actually decreases as we increase "
   ]
  },
  {
   "cell_type": "markdown",
   "metadata": {},
   "source": [
    "<b> Part E </b>"
   ]
  },
  {
   "cell_type": "code",
   "execution_count": 39,
   "metadata": {},
   "outputs": [
    {
     "name": "stdout",
     "output_type": "stream",
     "text": [
      "(90, 1)\n",
      "(90,)\n",
      "['setosa' 'virginica' 'virginica' 'virginica' 'versicolor' 'versicolor'\n",
      " 'versicolor' 'setosa' 'virginica' 'versicolor' 'virginica' 'versicolor'\n",
      " 'virginica' 'virginica' 'versicolor' 'versicolor' 'virginica' 'virginica'\n",
      " 'versicolor' 'setosa' 'virginica' 'virginica' 'setosa' 'setosa'\n",
      " 'versicolor' 'versicolor' 'versicolor' 'virginica' 'virginica'\n",
      " 'versicolor' 'virginica' 'versicolor' 'setosa' 'virginica' 'versicolor'\n",
      " 'versicolor' 'versicolor' 'versicolor' 'virginica' 'virginica' 'setosa'\n",
      " 'versicolor' 'versicolor' 'virginica' 'setosa' 'virginica' 'virginica'\n",
      " 'setosa' 'virginica' 'versicolor' 'versicolor' 'setosa' 'versicolor'\n",
      " 'setosa' 'versicolor' 'setosa' 'virginica' 'setosa' 'versicolor'\n",
      " 'versicolor']\n"
     ]
    }
   ],
   "source": [
    "#E \n",
    "acc_one = []\n",
    "\n",
    "X = flower_df[['sepal_width']]\n",
    "y=flower_df['species']\n",
    "X_train, X_test, y_train, y_test  = train_test_split(X,y, test_size=0.4, random_state=6)\n",
    "\n",
    "k=3\n",
    "iris_knn = KNeighborsClassifier(n_neighbors=k)\n",
    "iris_knn.fit(X_test,y_test)\n",
    "print(X_train.shape)\n",
    "print(y_train.shape)\n",
    "#Training only on the training set\n",
    "iris_knn.fit(X_train,y_train)\n",
    "#Testing on the testing set\n",
    "y_predict = iris_knn.predict(X_test)\n",
    "print(y_predict)"
   ]
  },
  {
   "cell_type": "code",
   "execution_count": 40,
   "metadata": {},
   "outputs": [
    {
     "name": "stdout",
     "output_type": "stream",
     "text": [
      "0.5666666666666667\n"
     ]
    }
   ],
   "source": [
    "#Calculate Accuracy Evaluation\n",
    "from sklearn.metrics import accuracy_score\n",
    "\n",
    "accuracy = accuracy_score(y_test,y_predict)\n",
    "print(accuracy)\n",
    "\n",
    "acc_one.append(accuracy)"
   ]
  },
  {
   "cell_type": "code",
   "execution_count": 41,
   "metadata": {},
   "outputs": [
    {
     "name": "stdout",
     "output_type": "stream",
     "text": [
      "(90, 1)\n",
      "(90,)\n",
      "['setosa' 'virginica' 'setosa' 'setosa' 'virginica' 'setosa' 'versicolor'\n",
      " 'setosa' 'virginica' 'versicolor' 'versicolor' 'versicolor' 'virginica'\n",
      " 'virginica' 'virginica' 'versicolor' 'virginica' 'virginica' 'versicolor'\n",
      " 'setosa' 'setosa' 'virginica' 'setosa' 'setosa' 'setosa' 'virginica'\n",
      " 'virginica' 'virginica' 'setosa' 'setosa' 'setosa' 'setosa' 'setosa'\n",
      " 'setosa' 'virginica' 'virginica' 'versicolor' 'virginica' 'setosa'\n",
      " 'setosa' 'setosa' 'virginica' 'versicolor' 'virginica' 'setosa' 'setosa'\n",
      " 'virginica' 'setosa' 'setosa' 'virginica' 'virginica' 'virginica'\n",
      " 'versicolor' 'setosa' 'virginica' 'setosa' 'setosa' 'setosa' 'virginica'\n",
      " 'virginica']\n"
     ]
    }
   ],
   "source": [
    "#Calculate on Sepal Length\n",
    "\n",
    "X = flower_df[['sepal_length']]\n",
    "y=flower_df['species']\n",
    "X_train, X_test, y_train, y_test  = train_test_split(X,y, test_size=0.4, random_state=6)\n",
    "\n",
    "k=3\n",
    "iris_knn = KNeighborsClassifier(n_neighbors=k)\n",
    "iris_knn.fit(X_test,y_test)\n",
    "print(X_train.shape)\n",
    "print(y_train.shape)\n",
    "#Training only on the training set\n",
    "iris_knn.fit(X_train,y_train)\n",
    "#Testing on the testing set\n",
    "y_predict = iris_knn.predict(X_test)\n",
    "print(y_predict)"
   ]
  },
  {
   "cell_type": "code",
   "execution_count": 42,
   "metadata": {},
   "outputs": [
    {
     "name": "stdout",
     "output_type": "stream",
     "text": [
      "0.7166666666666667\n"
     ]
    }
   ],
   "source": [
    "#Calculate Accuracy Evaluation for sepal length\n",
    "from sklearn.metrics import accuracy_score\n",
    "\n",
    "accuracy = accuracy_score(y_test,y_predict)\n",
    "print(accuracy)\n",
    "\n",
    "acc_one.append(accuracy)"
   ]
  },
  {
   "cell_type": "code",
   "execution_count": 43,
   "metadata": {},
   "outputs": [
    {
     "name": "stdout",
     "output_type": "stream",
     "text": [
      "(90, 1)\n",
      "(90,)\n",
      "['setosa' 'virginica' 'setosa' 'setosa' 'virginica' 'versicolor'\n",
      " 'versicolor' 'setosa' 'virginica' 'versicolor' 'virginica' 'versicolor'\n",
      " 'virginica' 'virginica' 'versicolor' 'versicolor' 'virginica'\n",
      " 'versicolor' 'versicolor' 'setosa' 'setosa' 'virginica' 'setosa' 'setosa'\n",
      " 'versicolor' 'versicolor' 'versicolor' 'virginica' 'setosa' 'versicolor'\n",
      " 'setosa' 'versicolor' 'setosa' 'setosa' 'versicolor' 'virginica'\n",
      " 'versicolor' 'virginica' 'versicolor' 'setosa' 'setosa' 'virginica'\n",
      " 'versicolor' 'versicolor' 'setosa' 'setosa' 'versicolor' 'setosa'\n",
      " 'setosa' 'versicolor' 'virginica' 'virginica' 'virginica' 'setosa'\n",
      " 'virginica' 'setosa' 'setosa' 'setosa' 'versicolor' 'virginica']\n"
     ]
    }
   ],
   "source": [
    "#Calculate on petal width\n",
    "X = flower_df[['petal_width']]\n",
    "y=flower_df['species']\n",
    "X_train, X_test, y_train, y_test  = train_test_split(X,y, test_size=0.4, random_state=6)\n",
    "\n",
    "k=3\n",
    "iris_knn = KNeighborsClassifier(n_neighbors=k)\n",
    "iris_knn.fit(X_test,y_test)\n",
    "print(X_train.shape)\n",
    "print(y_train.shape)\n",
    "#Training only on the training set\n",
    "iris_knn.fit(X_train,y_train)\n",
    "#Testing on the testing set\n",
    "y_predict = iris_knn.predict(X_test)\n",
    "print(y_predict)\n"
   ]
  },
  {
   "cell_type": "code",
   "execution_count": 44,
   "metadata": {},
   "outputs": [
    {
     "name": "stdout",
     "output_type": "stream",
     "text": [
      "0.95\n"
     ]
    }
   ],
   "source": [
    "#Calculate Accuracy Evaluation for petal width\n",
    "from sklearn.metrics import accuracy_score\n",
    "\n",
    "accuracy = accuracy_score(y_test,y_predict)\n",
    "print(accuracy)\n",
    "\n",
    "acc_one.append(accuracy)"
   ]
  },
  {
   "cell_type": "code",
   "execution_count": 45,
   "metadata": {},
   "outputs": [
    {
     "name": "stdout",
     "output_type": "stream",
     "text": [
      "(90, 1)\n",
      "(90,)\n",
      "['setosa' 'virginica' 'setosa' 'setosa' 'virginica' 'versicolor'\n",
      " 'virginica' 'setosa' 'virginica' 'versicolor' 'virginica' 'versicolor'\n",
      " 'virginica' 'virginica' 'versicolor' 'versicolor' 'virginica'\n",
      " 'versicolor' 'versicolor' 'setosa' 'setosa' 'virginica' 'setosa' 'setosa'\n",
      " 'versicolor' 'virginica' 'versicolor' 'virginica' 'setosa' 'versicolor'\n",
      " 'setosa' 'versicolor' 'setosa' 'setosa' 'virginica' 'virginica'\n",
      " 'versicolor' 'versicolor' 'versicolor' 'setosa' 'setosa' 'virginica'\n",
      " 'versicolor' 'versicolor' 'setosa' 'setosa' 'virginica' 'setosa' 'setosa'\n",
      " 'versicolor' 'virginica' 'virginica' 'virginica' 'setosa' 'virginica'\n",
      " 'setosa' 'setosa' 'setosa' 'versicolor' 'virginica']\n"
     ]
    }
   ],
   "source": [
    "#Calculate on petal length\n",
    "X = flower_df[['petal_length']]\n",
    "y=flower_df['species']\n",
    "X_train, X_test, y_train, y_test  = train_test_split(X,y, test_size=0.4, random_state=6)\n",
    "\n",
    "k=3\n",
    "iris_knn = KNeighborsClassifier(n_neighbors=k)\n",
    "iris_knn.fit(X_test,y_test)\n",
    "print(X_train.shape)\n",
    "print(y_train.shape)\n",
    "#Training only on the training set\n",
    "iris_knn.fit(X_train,y_train)\n",
    "#Testing on the testing set\n",
    "y_predict = iris_knn.predict(X_test)\n",
    "print(y_predict)"
   ]
  },
  {
   "cell_type": "code",
   "execution_count": 46,
   "metadata": {},
   "outputs": [
    {
     "name": "stdout",
     "output_type": "stream",
     "text": [
      "0.9333333333333333\n"
     ]
    }
   ],
   "source": [
    "#Calculate Accuracy Evaluation for petal length\n",
    "from sklearn.metrics import accuracy_score\n",
    "\n",
    "accuracy = accuracy_score(y_test,y_predict)\n",
    "print(accuracy)\n",
    "\n",
    "acc_one.append(accuracy)"
   ]
  },
  {
   "cell_type": "code",
   "execution_count": 48,
   "metadata": {},
   "outputs": [
    {
     "name": "stdout",
     "output_type": "stream",
     "text": [
      "[0.5666666666666667, 0.7166666666666667, 0.95, 0.9333333333333333]\n"
     ]
    }
   ],
   "source": [
    "print(acc_one)"
   ]
  },
  {
   "cell_type": "markdown",
   "metadata": {},
   "source": [
    "<i>The feature with the highest accuracy was the petal width and the second highest was the petal length</i>"
   ]
  },
  {
   "cell_type": "markdown",
   "metadata": {},
   "source": [
    "<b> Part F </b>\n",
    "<i>1st and 2nd features), (1st and 3rd features), (1st and 4th  features), (2nd  and 3rd  features), (2nd and 4th features), (3rd and 4th  features)! </i>"
   ]
  },
  {
   "cell_type": "code",
   "execution_count": 53,
   "metadata": {},
   "outputs": [
    {
     "name": "stdout",
     "output_type": "stream",
     "text": [
      "     sepal_length  sepal_width  petal_length  petal_width    species\n",
      "0             5.1          3.5           1.4          0.2     setosa\n",
      "1             4.9          3.0           1.4          0.2     setosa\n",
      "2             4.7          3.2           1.3          0.2     setosa\n",
      "3             4.6          3.1           1.5          0.2     setosa\n",
      "4             5.0          3.6           1.4          0.2     setosa\n",
      "..            ...          ...           ...          ...        ...\n",
      "145           6.7          3.0           5.2          2.3  virginica\n",
      "146           6.3          2.5           5.0          1.9  virginica\n",
      "147           6.5          3.0           5.2          2.0  virginica\n",
      "148           6.2          3.4           5.4          2.3  virginica\n",
      "149           5.9          3.0           5.1          1.8  virginica\n",
      "\n",
      "[150 rows x 5 columns]\n"
     ]
    }
   ],
   "source": [
    "print(flower_df)"
   ]
  },
  {
   "cell_type": "code",
   "execution_count": 54,
   "metadata": {},
   "outputs": [
    {
     "name": "stdout",
     "output_type": "stream",
     "text": [
      "(90, 2)\n",
      "(90,)\n",
      "['setosa' 'virginica' 'setosa' 'setosa' 'virginica' 'versicolor'\n",
      " 'versicolor' 'setosa' 'virginica' 'versicolor' 'versicolor' 'versicolor'\n",
      " 'virginica' 'virginica' 'virginica' 'versicolor' 'virginica' 'virginica'\n",
      " 'versicolor' 'setosa' 'setosa' 'virginica' 'setosa' 'setosa' 'versicolor'\n",
      " 'virginica' 'versicolor' 'virginica' 'setosa' 'versicolor' 'setosa'\n",
      " 'versicolor' 'setosa' 'setosa' 'virginica' 'virginica' 'versicolor'\n",
      " 'virginica' 'versicolor' 'setosa' 'setosa' 'virginica' 'versicolor'\n",
      " 'virginica' 'setosa' 'setosa' 'virginica' 'setosa' 'setosa' 'virginica'\n",
      " 'virginica' 'virginica' 'versicolor' 'setosa' 'virginica' 'setosa'\n",
      " 'setosa' 'setosa' 'virginica' 'virginica']\n"
     ]
    }
   ],
   "source": [
    "# Calculate with 2 features: Sepal Length and Sepal Width\n",
    "acc_two = []\n",
    "X = flower_df[['sepal_length','sepal_width']]\n",
    "y=flower_df['species']\n",
    "X_train, X_test, y_train, y_test  = train_test_split(X,y, test_size=0.4, random_state=6)\n",
    "\n",
    "k=3\n",
    "iris_knn = KNeighborsClassifier(n_neighbors=k)\n",
    "iris_knn.fit(X_test,y_test)\n",
    "print(X_train.shape)\n",
    "print(y_train.shape)\n",
    "#Training only on the training set\n",
    "iris_knn.fit(X_train,y_train)\n",
    "#Testing on the testing set\n",
    "y_predict = iris_knn.predict(X_test)\n",
    "print(y_predict)"
   ]
  },
  {
   "cell_type": "code",
   "execution_count": 55,
   "metadata": {},
   "outputs": [
    {
     "name": "stdout",
     "output_type": "stream",
     "text": [
      "0.8166666666666667\n"
     ]
    }
   ],
   "source": [
    "#Calculate Accuracy Evaluation for sepal length and sepal width\n",
    "from sklearn.metrics import accuracy_score\n",
    "\n",
    "accuracy = accuracy_score(y_test,y_predict)\n",
    "print(accuracy)\n",
    "\n",
    "acc_two.append(accuracy)"
   ]
  },
  {
   "cell_type": "code",
   "execution_count": 56,
   "metadata": {},
   "outputs": [
    {
     "name": "stdout",
     "output_type": "stream",
     "text": [
      "(90, 2)\n",
      "(90,)\n",
      "['setosa' 'virginica' 'setosa' 'setosa' 'virginica' 'versicolor'\n",
      " 'virginica' 'setosa' 'virginica' 'versicolor' 'virginica' 'versicolor'\n",
      " 'virginica' 'virginica' 'versicolor' 'virginica' 'virginica' 'versicolor'\n",
      " 'versicolor' 'setosa' 'setosa' 'virginica' 'setosa' 'setosa' 'versicolor'\n",
      " 'virginica' 'versicolor' 'virginica' 'setosa' 'versicolor' 'setosa'\n",
      " 'versicolor' 'setosa' 'setosa' 'virginica' 'virginica' 'versicolor'\n",
      " 'virginica' 'versicolor' 'setosa' 'setosa' 'virginica' 'versicolor'\n",
      " 'versicolor' 'setosa' 'setosa' 'versicolor' 'setosa' 'setosa'\n",
      " 'versicolor' 'virginica' 'virginica' 'virginica' 'setosa' 'virginica'\n",
      " 'setosa' 'setosa' 'setosa' 'versicolor' 'virginica']\n"
     ]
    }
   ],
   "source": [
    "# Calculate with 2 features: Sepal Length and petal length\n",
    "X = flower_df[['sepal_length','petal_length']]\n",
    "y=flower_df['species']\n",
    "X_train, X_test, y_train, y_test  = train_test_split(X,y, test_size=0.4, random_state=6)\n",
    "\n",
    "k=3\n",
    "iris_knn = KNeighborsClassifier(n_neighbors=k)\n",
    "iris_knn.fit(X_test,y_test)\n",
    "print(X_train.shape)\n",
    "print(y_train.shape)\n",
    "#Training only on the training set\n",
    "iris_knn.fit(X_train,y_train)\n",
    "#Testing on the testing set\n",
    "y_predict = iris_knn.predict(X_test)\n",
    "print(y_predict)"
   ]
  },
  {
   "cell_type": "code",
   "execution_count": 57,
   "metadata": {},
   "outputs": [
    {
     "name": "stdout",
     "output_type": "stream",
     "text": [
      "0.9833333333333333\n"
     ]
    }
   ],
   "source": [
    "#Calculate Accuracy Evaluation for sepal length and petal length\n",
    "from sklearn.metrics import accuracy_score\n",
    "\n",
    "accuracy = accuracy_score(y_test,y_predict)\n",
    "print(accuracy)\n",
    "\n",
    "acc_two.append(accuracy)"
   ]
  },
  {
   "cell_type": "code",
   "execution_count": 58,
   "metadata": {},
   "outputs": [
    {
     "name": "stdout",
     "output_type": "stream",
     "text": [
      "(90, 2)\n",
      "(90,)\n",
      "['setosa' 'virginica' 'setosa' 'setosa' 'virginica' 'versicolor'\n",
      " 'versicolor' 'setosa' 'virginica' 'versicolor' 'virginica' 'versicolor'\n",
      " 'virginica' 'virginica' 'versicolor' 'versicolor' 'virginica'\n",
      " 'versicolor' 'versicolor' 'setosa' 'setosa' 'virginica' 'setosa' 'setosa'\n",
      " 'versicolor' 'versicolor' 'versicolor' 'virginica' 'setosa' 'versicolor'\n",
      " 'setosa' 'versicolor' 'setosa' 'setosa' 'versicolor' 'virginica'\n",
      " 'versicolor' 'virginica' 'versicolor' 'setosa' 'setosa' 'virginica'\n",
      " 'versicolor' 'versicolor' 'setosa' 'setosa' 'versicolor' 'setosa'\n",
      " 'setosa' 'versicolor' 'virginica' 'virginica' 'virginica' 'setosa'\n",
      " 'virginica' 'setosa' 'setosa' 'setosa' 'versicolor' 'virginica']\n"
     ]
    }
   ],
   "source": [
    "# Calculate with 2 features: Sepal Length and petal width\n",
    "X = flower_df[['sepal_length','petal_width']]\n",
    "y=flower_df['species']\n",
    "X_train, X_test, y_train, y_test  = train_test_split(X,y, test_size=0.4, random_state=6)\n",
    "\n",
    "k=3\n",
    "iris_knn = KNeighborsClassifier(n_neighbors=k)\n",
    "iris_knn.fit(X_test,y_test)\n",
    "print(X_train.shape)\n",
    "print(y_train.shape)\n",
    "#Training only on the training set\n",
    "iris_knn.fit(X_train,y_train)\n",
    "#Testing on the testing set\n",
    "y_predict = iris_knn.predict(X_test)\n",
    "print(y_predict)"
   ]
  },
  {
   "cell_type": "code",
   "execution_count": 59,
   "metadata": {},
   "outputs": [
    {
     "name": "stdout",
     "output_type": "stream",
     "text": [
      "0.95\n"
     ]
    }
   ],
   "source": [
    "#Calculate Accuracy Evaluation for sepal length and petal width\n",
    "from sklearn.metrics import accuracy_score\n",
    "\n",
    "accuracy = accuracy_score(y_test,y_predict)\n",
    "print(accuracy)\n",
    "\n",
    "acc_two.append(accuracy)"
   ]
  },
  {
   "cell_type": "code",
   "execution_count": 60,
   "metadata": {},
   "outputs": [
    {
     "name": "stdout",
     "output_type": "stream",
     "text": [
      "(90, 2)\n",
      "(90,)\n",
      "['setosa' 'virginica' 'setosa' 'setosa' 'versicolor' 'versicolor'\n",
      " 'virginica' 'setosa' 'virginica' 'versicolor' 'virginica' 'versicolor'\n",
      " 'virginica' 'virginica' 'versicolor' 'versicolor' 'virginica'\n",
      " 'versicolor' 'versicolor' 'setosa' 'setosa' 'virginica' 'setosa' 'setosa'\n",
      " 'versicolor' 'virginica' 'versicolor' 'virginica' 'setosa' 'versicolor'\n",
      " 'setosa' 'versicolor' 'setosa' 'setosa' 'virginica' 'virginica'\n",
      " 'versicolor' 'virginica' 'versicolor' 'setosa' 'setosa' 'virginica'\n",
      " 'versicolor' 'versicolor' 'setosa' 'setosa' 'versicolor' 'setosa'\n",
      " 'setosa' 'versicolor' 'virginica' 'virginica' 'virginica' 'setosa'\n",
      " 'virginica' 'setosa' 'setosa' 'setosa' 'versicolor' 'virginica']\n"
     ]
    }
   ],
   "source": [
    "#Calculate with 2 features: Sepal width and Petal length\n",
    "X = flower_df[['sepal_width','petal_length']]\n",
    "y=flower_df['species']\n",
    "X_train, X_test, y_train, y_test  = train_test_split(X,y, test_size=0.4, random_state=6)\n",
    "\n",
    "k=3\n",
    "iris_knn = KNeighborsClassifier(n_neighbors=k)\n",
    "iris_knn.fit(X_test,y_test)\n",
    "print(X_train.shape)\n",
    "print(y_train.shape)\n",
    "#Training only on the training set\n",
    "iris_knn.fit(X_train,y_train)\n",
    "#Testing on the testing set\n",
    "y_predict = iris_knn.predict(X_test)\n",
    "print(y_predict)"
   ]
  },
  {
   "cell_type": "code",
   "execution_count": 61,
   "metadata": {},
   "outputs": [
    {
     "name": "stdout",
     "output_type": "stream",
     "text": [
      "0.95\n"
     ]
    }
   ],
   "source": [
    "#Calculate Accuracy Evaluation for sepal width and petal length\n",
    "from sklearn.metrics import accuracy_score\n",
    "\n",
    "accuracy = accuracy_score(y_test,y_predict)\n",
    "print(accuracy)\n",
    "\n",
    "acc_two.append(accuracy)"
   ]
  },
  {
   "cell_type": "code",
   "execution_count": 62,
   "metadata": {},
   "outputs": [
    {
     "name": "stdout",
     "output_type": "stream",
     "text": [
      "(90, 2)\n",
      "(90,)\n",
      "['setosa' 'virginica' 'setosa' 'setosa' 'virginica' 'versicolor'\n",
      " 'versicolor' 'setosa' 'virginica' 'versicolor' 'virginica' 'versicolor'\n",
      " 'virginica' 'virginica' 'versicolor' 'versicolor' 'virginica'\n",
      " 'versicolor' 'versicolor' 'setosa' 'setosa' 'virginica' 'setosa' 'setosa'\n",
      " 'versicolor' 'versicolor' 'versicolor' 'virginica' 'setosa' 'versicolor'\n",
      " 'setosa' 'versicolor' 'setosa' 'setosa' 'versicolor' 'virginica'\n",
      " 'versicolor' 'virginica' 'versicolor' 'setosa' 'setosa' 'virginica'\n",
      " 'versicolor' 'versicolor' 'setosa' 'setosa' 'versicolor' 'setosa'\n",
      " 'setosa' 'versicolor' 'virginica' 'virginica' 'virginica' 'setosa'\n",
      " 'virginica' 'setosa' 'setosa' 'setosa' 'versicolor' 'virginica']\n"
     ]
    }
   ],
   "source": [
    "#Calculate with 2 features: Sepal width and Petal width\n",
    "X = flower_df[['sepal_width','petal_width']]\n",
    "y=flower_df['species']\n",
    "X_train, X_test, y_train, y_test  = train_test_split(X,y, test_size=0.4, random_state=6)\n",
    "\n",
    "k=3\n",
    "iris_knn = KNeighborsClassifier(n_neighbors=k)\n",
    "iris_knn.fit(X_test,y_test)\n",
    "print(X_train.shape)\n",
    "print(y_train.shape)\n",
    "#Training only on the training set\n",
    "iris_knn.fit(X_train,y_train)\n",
    "#Testing on the testing set\n",
    "y_predict = iris_knn.predict(X_test)\n",
    "print(y_predict)"
   ]
  },
  {
   "cell_type": "code",
   "execution_count": 63,
   "metadata": {},
   "outputs": [
    {
     "name": "stdout",
     "output_type": "stream",
     "text": [
      "0.95\n"
     ]
    }
   ],
   "source": [
    "#Calculate Accuracy Evaluation for sepal width and petal width\n",
    "from sklearn.metrics import accuracy_score\n",
    "\n",
    "accuracy = accuracy_score(y_test,y_predict)\n",
    "print(accuracy)\n",
    "\n",
    "acc_two.append(accuracy)"
   ]
  },
  {
   "cell_type": "code",
   "execution_count": 64,
   "metadata": {},
   "outputs": [
    {
     "name": "stdout",
     "output_type": "stream",
     "text": [
      "(90, 2)\n",
      "(90,)\n",
      "['setosa' 'virginica' 'setosa' 'setosa' 'virginica' 'versicolor'\n",
      " 'virginica' 'setosa' 'virginica' 'versicolor' 'virginica' 'versicolor'\n",
      " 'virginica' 'virginica' 'versicolor' 'versicolor' 'virginica'\n",
      " 'versicolor' 'versicolor' 'setosa' 'setosa' 'virginica' 'setosa' 'setosa'\n",
      " 'versicolor' 'versicolor' 'versicolor' 'virginica' 'setosa' 'versicolor'\n",
      " 'setosa' 'versicolor' 'setosa' 'setosa' 'versicolor' 'virginica'\n",
      " 'versicolor' 'virginica' 'versicolor' 'setosa' 'setosa' 'virginica'\n",
      " 'versicolor' 'versicolor' 'setosa' 'setosa' 'versicolor' 'setosa'\n",
      " 'setosa' 'versicolor' 'virginica' 'virginica' 'virginica' 'setosa'\n",
      " 'virginica' 'setosa' 'setosa' 'setosa' 'versicolor' 'virginica']\n"
     ]
    }
   ],
   "source": [
    "# Calculate with 2 features: Petal length and Petal width\n",
    "X = flower_df[['petal_length','petal_width']]\n",
    "y=flower_df['species']\n",
    "X_train, X_test, y_train, y_test  = train_test_split(X,y, test_size=0.4, random_state=6)\n",
    "\n",
    "k=3\n",
    "iris_knn = KNeighborsClassifier(n_neighbors=k)\n",
    "iris_knn.fit(X_test,y_test)\n",
    "print(X_train.shape)\n",
    "print(y_train.shape)\n",
    "#Training only on the training set\n",
    "iris_knn.fit(X_train,y_train)\n",
    "#Testing on the testing set\n",
    "y_predict = iris_knn.predict(X_test)\n",
    "print(y_predict)"
   ]
  },
  {
   "cell_type": "code",
   "execution_count": 65,
   "metadata": {},
   "outputs": [
    {
     "name": "stdout",
     "output_type": "stream",
     "text": [
      "0.9666666666666667\n"
     ]
    }
   ],
   "source": [
    "#Calculate Accuracy Evaluation for sepal width and petal width\n",
    "from sklearn.metrics import accuracy_score\n",
    "\n",
    "accuracy = accuracy_score(y_test,y_predict)\n",
    "print(accuracy)\n",
    "\n",
    "acc_two.append(accuracy)"
   ]
  },
  {
   "cell_type": "code",
   "execution_count": 66,
   "metadata": {},
   "outputs": [
    {
     "name": "stdout",
     "output_type": "stream",
     "text": [
      "[0.8166666666666667, 0.9833333333333333, 0.95, 0.95, 0.95, 0.9666666666666667]\n"
     ]
    }
   ],
   "source": [
    "print(acc_two)"
   ]
  },
  {
   "cell_type": "markdown",
   "metadata": {},
   "source": [
    "The two features with the most accuracy were sepal length and petal length "
   ]
  },
  {
   "cell_type": "markdown",
   "metadata": {},
   "source": [
    "<b> G </b>"
   ]
  },
  {
   "cell_type": "markdown",
   "metadata": {},
   "source": [
    "<i>Big Question: Does the “best feature pair” from part (f) contain of both “first best feature” and “second best feature” from part (e)? In other word, can we conclude that the “best two features” for classification are the first best feature along with the second best feature together?</i>"
   ]
  },
  {
   "cell_type": "markdown",
   "metadata": {},
   "source": [
    "Part F: The two features with the most accuracy were sepal length and petal length\n",
    "Part E: The feature with the highest accuracy was the petal width and the second highest was the petal length    "
   ]
  },
  {
   "cell_type": "markdown",
   "metadata": {},
   "source": [
    "No, we cannot conclude that the two best features are the first best feature and second best feature together. Petal_length was in the best feature pair and was the second best feature in the individual feature. Sepal_length in the individual feature prediction was not the best individual feature since it was at 71% accuracy. So, based on the data we collected the two best features are not the first best and second best feature.     "
   ]
  },
  {
   "cell_type": "markdown",
   "metadata": {},
   "source": [
    "<b>H</b>"
   ]
  },
  {
   "cell_type": "markdown",
   "metadata": {},
   "source": [
    "From the data that we collected on individual features and feature pairs we can see that the two best features individually are petal_width and petal_length. From the feature pairs, the two best feature pairs were sepal_length/petal_length and sepal_width/petal_width. So for our best two features our data had to reflect that both sepal length and petal length were both individually and paired the best features but instead we got sepal length and petal length as our best features when sepal length was the third best individual feature.  "
   ]
  }
 ],
 "metadata": {
  "kernelspec": {
   "display_name": "Python 3",
   "language": "python",
   "name": "python3"
  },
  "language_info": {
   "codemirror_mode": {
    "name": "ipython",
    "version": 3
   },
   "file_extension": ".py",
   "mimetype": "text/x-python",
   "name": "python",
   "nbconvert_exporter": "python",
   "pygments_lexer": "ipython3",
   "version": "3.8.3"
  }
 },
 "nbformat": 4,
 "nbformat_minor": 4
}
